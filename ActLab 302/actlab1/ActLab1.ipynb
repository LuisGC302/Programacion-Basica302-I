{
  "nbformat": 4,
  "nbformat_minor": 0,
  "metadata": {
    "colab": {
      "provenance": [],
      "authorship_tag": "ABX9TyNt5wlMRaiJg5pMvjTjQoSZ",
      "include_colab_link": true
    },
    "kernelspec": {
      "name": "python3",
      "display_name": "Python 3"
    },
    "language_info": {
      "name": "python"
    }
  },
  "cells": [
    {
      "cell_type": "markdown",
      "metadata": {
        "id": "view-in-github",
        "colab_type": "text"
      },
      "source": [
        "<a href=\"https://colab.research.google.com/github/LuisGC302/Programacion-Basica302-I/blob/main/ActLab%20302/actlab1/ActLab1.ipynb\" target=\"_parent\"><img src=\"https://colab.research.google.com/assets/colab-badge.svg\" alt=\"Open In Colab\"/></a>"
      ]
    },
    {
      "cell_type": "code",
      "source": [
        "Actividad De Laboratorio 1 Impresion De Mensajes"
      ],
      "metadata": {
        "id": "2U20PshLVB6H"
      },
      "execution_count": null,
      "outputs": []
    },
    {
      "cell_type": "markdown",
      "source": [
        "pB302_1.cpp Programa para bienvenida"
      ],
      "metadata": {
        "id": "PfEEbvulKr2u"
      }
    },
    {
      "cell_type": "code",
      "execution_count": null,
      "metadata": {
        "colab": {
          "base_uri": "https://localhost:8080/"
        },
        "id": "-tebfNJQJCEh",
        "outputId": "4a8e5617-daec-4b23-cb2c-881d85e9c3ab"
      },
      "outputs": [
        {
          "output_type": "stream",
          "name": "stdout",
          "text": [
            "Overwriting PB302_1.cpp\n"
          ]
        }
      ],
      "source": [
        "%%writefile PB302_1.cpp\n",
        "// Programa para imprimir mensaje de bienvenida\n",
        "//creado por Luis Daniel Gurrola Carrillo\n",
        "//fecha 15/septiembre/2025\n",
        "//PB302_1.cpp\n",
        "#include <iostream>\n",
        "using namespace std;\n",
        "int main()\n",
        "{\n",
        "cout<< \"bienveidos a programacion basica en c++\\n\";\n",
        "  cout<< \"gracias por programar en clase\";\n",
        "  return 0;\n",
        "}"
      ]
    },
    {
      "cell_type": "code",
      "source": [
        "!g++ PB302_1.cpp -o PB302_1\n",
        "!./PB302_1"
      ],
      "metadata": {
        "colab": {
          "base_uri": "https://localhost:8080/"
        },
        "id": "t1EULX-aPAKb",
        "outputId": "f96af46e-708e-4bba-e42a-5ff3695c228c"
      },
      "execution_count": null,
      "outputs": [
        {
          "output_type": "stream",
          "name": "stdout",
          "text": [
            "bienveidos a programacion basica en c++\n",
            "gracias por programar en clase"
          ]
        }
      ]
    },
    {
      "cell_type": "markdown",
      "source": [],
      "metadata": {
        "id": "y_WqPoNrcWsr"
      }
    },
    {
      "cell_type": "code",
      "source": [
        "302_2.cpp programa para imprimir datos personales"
      ],
      "metadata": {
        "id": "u1pE-nytcZyb"
      },
      "execution_count": null,
      "outputs": []
    },
    {
      "cell_type": "code",
      "source": [
        "%%writefile PB302_2.cpp\n",
        "//programar para mostrar datos personales\n",
        "//creado por Luis Daniel Gurrola Carrillo\n",
        "//fecha 19/septiembre/2025\n",
        "//PB302_2.cpp\n",
        "#include <iostream>\n",
        "using namespace std;\n",
        "int main()\n",
        "{\n",
        "  char nombre[10]= \"Luis\";\n",
        "   char paterno[10]= \"gurrola\";\n",
        "    char materno[10]= \"carrillo\";\n",
        "    int edad=16;\n",
        "    char direccion[50]= \"lopez mateos\";\n",
        "    char fechaden[50]= \"11/02/2009\";\n",
        "    char ciudadnac[50]= \"cdjurez\";\n",
        "    cout<<\"tu nombre completo es:\\n\";\n",
        "    cout<<nombre<<\"\\n\";\n",
        "    cout<<paterno<<\"\\n\";\n",
        "    cout<<materno<<\"\\n\";\n",
        "    cout<<edad<<\"\\n\";\n",
        "    cout<<direccion<<\"\\n\";\n",
        "    cout<<fechaden<<\"\\n\";\n",
        "    cout<<ciudadnac<<\"\\n\";\n",
        "    return 0;\n",
        "}\n"
      ],
      "metadata": {
        "colab": {
          "base_uri": "https://localhost:8080/"
        },
        "id": "mad3bvDucpPq",
        "outputId": "4943adcb-c727-4119-af0a-aa42d5a77aac"
      },
      "execution_count": 27,
      "outputs": [
        {
          "output_type": "stream",
          "name": "stdout",
          "text": [
            "Overwriting PB302_2.cpp\n"
          ]
        }
      ]
    },
    {
      "cell_type": "code",
      "source": [
        "!g++ PB302_2.cpp -o PB302_2.exe\n",
        "!./PB302_2.exe"
      ],
      "metadata": {
        "colab": {
          "base_uri": "https://localhost:8080/"
        },
        "id": "s-C8N5UWiZSN",
        "outputId": "85b4bce0-0192-4e82-d12d-eb998af0e45f"
      },
      "execution_count": 28,
      "outputs": [
        {
          "output_type": "stream",
          "name": "stdout",
          "text": [
            "tu nombre completo es:\n",
            "Luis\n",
            "gurrola\n",
            "carrillo\n",
            "16\n",
            "lopez mateos\n",
            "11/02/2009\n",
            "cdjurez\n"
          ]
        }
      ]
    }
  ]
}